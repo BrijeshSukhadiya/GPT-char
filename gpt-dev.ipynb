{
 "cells": [
  {
   "cell_type": "code",
   "execution_count": 33,
   "id": "24669311",
   "metadata": {},
   "outputs": [],
   "source": [
    "with open('text.txt', 'r', encoding=\"utf-8\") as f:\n",
    "    text = f.read()"
   ]
  },
  {
   "cell_type": "code",
   "execution_count": 34,
   "id": "133b07bd",
   "metadata": {},
   "outputs": [
    {
     "name": "stdout",
     "output_type": "stream",
     "text": [
      "lenth of dataset in characters:  11853750\n"
     ]
    }
   ],
   "source": [
    "print('lenth of dataset in characters: ', len(text))"
   ]
  },
  {
   "cell_type": "code",
   "execution_count": 35,
   "id": "0d409971",
   "metadata": {},
   "outputs": [
    {
     "name": "stdout",
     "output_type": "stream",
     "text": [
      "Albert of Prussia ( 17 May 1490 20 March 1568 ) was the last Grand Master of the Teutonic Knights , \n"
     ]
    }
   ],
   "source": [
    "#Printing first 100 characters\n",
    "print(text[:100])"
   ]
  },
  {
   "cell_type": "code",
   "execution_count": 36,
   "id": "8c72a4b3",
   "metadata": {},
   "outputs": [
    {
     "name": "stdout",
     "output_type": "stream",
     "text": [
      "\n",
      " !#$%&'()*+,-./0123456789:;<=>?@ABCDEFGHIJKLMNOPQRSTUVWXYZabcdefghijklmnopqrstuvwxyz{\n",
      "86\n"
     ]
    }
   ],
   "source": [
    "#All unique chr in text\n",
    "chars = sorted(list(set(text)))\n",
    "vocab_size = len(chars)\n",
    "print(''.join(chars))\n",
    "print(vocab_size)"
   ]
  },
  {
   "cell_type": "code",
   "execution_count": 37,
   "id": "53e18dab",
   "metadata": {},
   "outputs": [
    {
     "name": "stdout",
     "output_type": "stream",
     "text": [
      "[40, 63, 70, 70, 73]\n",
      "Hello\n"
     ]
    }
   ],
   "source": [
    "#mapping of char to int\n",
    "stoi = { ch:i for i, ch in enumerate(chars)}\n",
    "itos = { i:ch for i, ch in enumerate(chars)}\n",
    "encode = lambda s: [stoi[c] for c in s] # str to int list\n",
    "decode = lambda l: ''.join([itos[i] for i in l]) #int to str\n",
    "\n",
    "print(encode(\"Hello\"))\n",
    "print(decode(encode(\"Hello\")))"
   ]
  },
  {
   "cell_type": "code",
   "execution_count": 38,
   "id": "fb25f9c6",
   "metadata": {},
   "outputs": [
    {
     "name": "stdout",
     "output_type": "stream",
     "text": [
      "torch.Size([11853750]) <built-in method type of Tensor object at 0x0000020A9D52F920>\n",
      "tensor([33, 70, 60, 63, 76, 78,  1, 73, 64,  1, 48, 76, 79, 77, 77, 67, 59,  1,\n",
      "         8,  1, 17, 23,  1, 45, 59, 83,  1, 17, 20, 25, 16,  1, 18, 16,  1, 45,\n",
      "        59, 76, 61, 66,  1, 17, 21, 22, 24,  1,  9,  1, 81, 59, 77,  1, 78, 66,\n",
      "        63,  1, 70, 59, 77, 78,  1, 39, 76, 59, 72, 62,  1, 45, 59, 77, 78, 63,\n",
      "        76,  1, 73, 64,  1, 78, 66, 63,  1, 52, 63, 79, 78, 73, 72, 67, 61,  1,\n",
      "        43, 72, 67, 65, 66, 78, 77,  1, 12,  1])\n"
     ]
    }
   ],
   "source": [
    "#Encoding entire text in dataset and storing in a torch.tensor\n",
    "import torch\n",
    "data = torch.tensor(encode(text), dtype=torch.long)\n",
    "print (data.shape,data.type)\n",
    "print(data[:100])"
   ]
  },
  {
   "cell_type": "code",
   "execution_count": 39,
   "id": "1b954a25",
   "metadata": {},
   "outputs": [],
   "source": [
    "#split of data\n",
    "n = int(0.9*len(data))\n",
    "train_data = data[:n]\n",
    "val_data = data[n:]"
   ]
  },
  {
   "cell_type": "code",
   "execution_count": 40,
   "id": "81824b76",
   "metadata": {},
   "outputs": [
    {
     "data": {
      "text/plain": [
       "tensor([33, 70, 60, 63, 76, 78,  1, 73, 64])"
      ]
     },
     "execution_count": 40,
     "metadata": {},
     "output_type": "execute_result"
    }
   ],
   "source": [
    "block_size = 8\n",
    "train_data[:block_size+1]"
   ]
  },
  {
   "cell_type": "code",
   "execution_count": 41,
   "id": "f7f0cbdc",
   "metadata": {},
   "outputs": [
    {
     "name": "stdout",
     "output_type": "stream",
     "text": [
      "when input is tensor([33]) the target: 70\n",
      "when input is tensor([33, 70]) the target: 60\n",
      "when input is tensor([33, 70, 60]) the target: 63\n",
      "when input is tensor([33, 70, 60, 63]) the target: 76\n",
      "when input is tensor([33, 70, 60, 63, 76]) the target: 78\n",
      "when input is tensor([33, 70, 60, 63, 76, 78]) the target: 1\n",
      "when input is tensor([33, 70, 60, 63, 76, 78,  1]) the target: 73\n",
      "when input is tensor([33, 70, 60, 63, 76, 78,  1, 73]) the target: 64\n"
     ]
    }
   ],
   "source": [
    "x = train_data[:block_size]\n",
    "y = train_data[1:block_size+1]\n",
    "for t in range(block_size):\n",
    "    context = x[:t+1]\n",
    "    target = y[t]\n",
    "    print(f\"when input is {context} the target: {target}\")"
   ]
  },
  {
   "cell_type": "code",
   "execution_count": 42,
   "id": "f279ccb1",
   "metadata": {},
   "outputs": [
    {
     "name": "stdout",
     "output_type": "stream",
     "text": [
      "inputs:\n",
      "torch.Size([4, 8])\n",
      "tensor([[14,  1, 40, 63,  1, 59, 78, 78],\n",
      "        [80, 59,  1, 14,  1, 52, 66, 63],\n",
      "        [81, 59, 77,  1, 72, 73, 78,  1],\n",
      "        [67, 73, 72, 59, 70, 63,  1,  8]])\n",
      "targets:\n",
      "torch.Size([4, 8])\n",
      "tensor([[ 1, 40, 63,  1, 59, 78, 78, 63],\n",
      "        [59,  1, 14,  1, 52, 66, 63,  1],\n",
      "        [59, 77,  1, 72, 73, 78,  1, 73],\n",
      "        [73, 72, 59, 70, 63,  1,  8,  1]])\n",
      "----\n",
      "when input is [14] the target: 1\n",
      "when input is [14, 1] the target: 40\n",
      "when input is [14, 1, 40] the target: 63\n",
      "when input is [14, 1, 40, 63] the target: 1\n",
      "when input is [14, 1, 40, 63, 1] the target: 59\n",
      "when input is [14, 1, 40, 63, 1, 59] the target: 78\n",
      "when input is [14, 1, 40, 63, 1, 59, 78] the target: 78\n",
      "when input is [14, 1, 40, 63, 1, 59, 78, 78] the target: 63\n",
      "when input is [80] the target: 59\n",
      "when input is [80, 59] the target: 1\n",
      "when input is [80, 59, 1] the target: 14\n",
      "when input is [80, 59, 1, 14] the target: 1\n",
      "when input is [80, 59, 1, 14, 1] the target: 52\n",
      "when input is [80, 59, 1, 14, 1, 52] the target: 66\n",
      "when input is [80, 59, 1, 14, 1, 52, 66] the target: 63\n",
      "when input is [80, 59, 1, 14, 1, 52, 66, 63] the target: 1\n",
      "when input is [81] the target: 59\n",
      "when input is [81, 59] the target: 77\n",
      "when input is [81, 59, 77] the target: 1\n",
      "when input is [81, 59, 77, 1] the target: 72\n",
      "when input is [81, 59, 77, 1, 72] the target: 73\n",
      "when input is [81, 59, 77, 1, 72, 73] the target: 78\n",
      "when input is [81, 59, 77, 1, 72, 73, 78] the target: 1\n",
      "when input is [81, 59, 77, 1, 72, 73, 78, 1] the target: 73\n",
      "when input is [67] the target: 73\n",
      "when input is [67, 73] the target: 72\n",
      "when input is [67, 73, 72] the target: 59\n",
      "when input is [67, 73, 72, 59] the target: 70\n",
      "when input is [67, 73, 72, 59, 70] the target: 63\n",
      "when input is [67, 73, 72, 59, 70, 63] the target: 1\n",
      "when input is [67, 73, 72, 59, 70, 63, 1] the target: 8\n",
      "when input is [67, 73, 72, 59, 70, 63, 1, 8] the target: 1\n"
     ]
    }
   ],
   "source": [
    "torch.manual_seed(1337)\n",
    "batch_size = 4 #independent seq process in parallel\n",
    "block_size = 8 #max length for prediction\n",
    "\n",
    "def get_batch(split):\n",
    "    data = train_data if split == 'train' else val_data\n",
    "    ix = torch.randint(len(data) - block_size, (batch_size,))\n",
    "    x = torch.stack([data[i:i+block_size] for i in ix])\n",
    "    y = torch.stack([data[i+1:i+block_size+1] for i in ix])\n",
    "    return x, y\n",
    "\n",
    "xb, yb = get_batch(\"train\")\n",
    "print('inputs:')\n",
    "print(xb.shape)\n",
    "print(xb)\n",
    "print('targets:')\n",
    "print(yb.shape)\n",
    "print(yb)\n",
    "\n",
    "print('----')\n",
    "\n",
    "for b in range(batch_size):         #batch dimension\n",
    "    for t in range(block_size):     #time dimension\n",
    "        context = xb[b, :t+1]\n",
    "        target = yb[b,t]\n",
    "        print(f'when input is {context.tolist()} the target: {target}')"
   ]
  },
  {
   "cell_type": "code",
   "execution_count": 43,
   "id": "4f5840d5",
   "metadata": {},
   "outputs": [
    {
     "name": "stdout",
     "output_type": "stream",
     "text": [
      "torch.Size([32, 86])\n",
      "tensor(4.6551, grad_fn=<NllLossBackward0>)\n",
      "\n",
      "?975,0uO=+1?mfqhT-K*:>Q/a?*xR%MxTDe&Sj/alo+>:pZkaN#$Db7a%l5*:budALArM230yt.b*>xWh;6&W#dp=k8,b:QFe9.*\n"
     ]
    }
   ],
   "source": [
    "import torch \n",
    "import torch.nn as nn\n",
    "from torch.nn import functional as F\n",
    "torch.manual_seed(1337)\n",
    "\n",
    "class BigramLanguageModel(nn.Module):\n",
    "\n",
    "    def __init__(self,vocab_size):\n",
    "        super().__init__()\n",
    "        #each token directly reads off the logits for next token from lookup table\n",
    "        self.token_embedding_table = nn.Embedding(vocab_size, vocab_size)\n",
    "\n",
    "    def forward(self, idx, targets=None):\n",
    "\n",
    "        # idx and targets are both (B,T) tensor of integers\n",
    "        logits = self.token_embedding_table(idx) # (B,T,C)\n",
    "\n",
    "        if targets is None:\n",
    "            loss = None\n",
    "        else:\n",
    "            B, T, C = logits.shape\n",
    "            logits = logits.view(B*T, C)\n",
    "            targets = targets.view(B*T)\n",
    "            loss = F.cross_entropy(logits, targets)\n",
    "\n",
    "        return logits, loss\n",
    "    \n",
    "    def generate(self, idx, max_new_tokens):\n",
    "            # idx is (B, T) array of indices in the current context\n",
    "            for _ in range(max_new_tokens):\n",
    "                # get the predictions\n",
    "                logits, loss = self(idx)\n",
    "                # focus only on the last time step\n",
    "                logits = logits[:, -1, :] # becomes (B, C)\n",
    "                # apply softmax to get probabilities\n",
    "                probs = F.softmax(logits, dim=-1) # (B, C)\n",
    "                # sample from the distribution\n",
    "                idx_next = torch.multinomial(probs, num_samples=1) # (B, 1)\n",
    "                # append sampled index to the running sequence\n",
    "                idx = torch.cat((idx, idx_next), dim=1) # (B, T+1)\n",
    "            return idx\n",
    "\n",
    "m = BigramLanguageModel(vocab_size)\n",
    "logits, loss = m(xb,yb)\n",
    "print(logits.shape)\n",
    "print(loss)\n",
    "\n",
    "print(decode(m.generate(idx = torch.zeros((1, 1), dtype=torch.long), max_new_tokens=100)[0].tolist()))"
   ]
  },
  {
   "cell_type": "code",
   "execution_count": 44,
   "id": "9b4b57f6",
   "metadata": {},
   "outputs": [],
   "source": [
    "# create optimizer\n",
    "optimizer = torch.optim.Adam(m.parameters(), lr=1e-3)"
   ]
  },
  {
   "cell_type": "code",
   "execution_count": 45,
   "id": "41c6f116",
   "metadata": {},
   "outputs": [
    {
     "name": "stdout",
     "output_type": "stream",
     "text": [
      "2.4811253547668457\n"
     ]
    }
   ],
   "source": [
    "batch_size = 32\n",
    "for steps in range(10000): # increase number of steps for good results...\n",
    "\n",
    "    # sample a batch of data\n",
    "    xb, yb = get_batch('train')\n",
    "\n",
    "    # evaluate the loss\n",
    "    logits, loss = m(xb, yb)\n",
    "    optimizer.zero_grad(set_to_none=True)\n",
    "    loss.backward()\n",
    "    optimizer.step()\n",
    "\n",
    "print(loss.item())"
   ]
  },
  {
   "cell_type": "code",
   "execution_count": 46,
   "id": "492756f1",
   "metadata": {},
   "outputs": [
    {
     "name": "stdout",
     "output_type": "stream",
     "text": [
      "\n",
      "berioreathastwichamods 2&kind1066, we . abediony @ ) AGeary onis fonds FFo Himofre angemer Cme atin Ouen tcklla$100 qul l prive @ d Naluringatonime ' .Shouand telil HItista G FArs lineelsondNommaly @ 10 f an-bs wasedim , ** Bache as ara re ondit ioraue Cofepond astaneathan ' : @ we . Pr oled bey aunthind oum # wilalocaly @ @ himanece f Can @ intou' 2099066 . , S. w Fof cangunc Al aralisth . omervi\n"
     ]
    }
   ],
   "source": [
    "print(decode(m.generate(idx = torch.zeros((1, 1), dtype=torch.long), max_new_tokens=400)[0].tolist()))\n"
   ]
  },
  {
   "cell_type": "markdown",
   "id": "a66c2298",
   "metadata": {},
   "source": [
    "Math Trick"
   ]
  },
  {
   "cell_type": "code",
   "execution_count": 63,
   "id": "d66ece8b",
   "metadata": {},
   "outputs": [
    {
     "name": "stdout",
     "output_type": "stream",
     "text": [
      "a=\n",
      "tensor([[1.0000, 0.0000, 0.0000],\n",
      "        [0.5000, 0.5000, 0.0000],\n",
      "        [0.3333, 0.3333, 0.3333]])\n",
      "--\n",
      "b=\n",
      "tensor([[2., 7.],\n",
      "        [6., 4.],\n",
      "        [6., 5.]])\n",
      "--\n",
      "c=\n",
      "tensor([[2.0000, 7.0000],\n",
      "        [4.0000, 5.5000],\n",
      "        [4.6667, 5.3333]])\n"
     ]
    }
   ],
   "source": [
    "# toy example illustrating how matrix multiplication can be used for a \"weighted aggregation\"\n",
    "torch.manual_seed(42)\n",
    "a = torch.tril(torch.ones(3, 3))\n",
    "a = a / torch.sum(a, 1, keepdim=True)\n",
    "b = torch.randint(0,10,(3,2)).float()\n",
    "c = a @ b\n",
    "print('a=')\n",
    "print(a)\n",
    "print('--')\n",
    "print('b=')\n",
    "print(b)\n",
    "print('--')\n",
    "print('c=')\n",
    "print(c)"
   ]
  },
  {
   "cell_type": "code",
   "execution_count": 64,
   "id": "9e89f293",
   "metadata": {},
   "outputs": [
    {
     "data": {
      "text/plain": [
       "torch.Size([4, 8, 2])"
      ]
     },
     "execution_count": 64,
     "metadata": {},
     "output_type": "execute_result"
    }
   ],
   "source": [
    "# consider the following toy example:\n",
    "\n",
    "torch.manual_seed(1337)\n",
    "B,T,C = 4,8,2 # batch, time, channels\n",
    "x = torch.randn(B,T,C)\n",
    "x.shape"
   ]
  },
  {
   "cell_type": "code",
   "execution_count": 65,
   "id": "82e059f3",
   "metadata": {},
   "outputs": [],
   "source": [
    "# We want x[b,t] = mean_{i<=t} x[b,i]\n",
    "xbow = torch.zeros((B,T,C))\n",
    "for b in range(B):\n",
    "    for t in range(T):\n",
    "        xprev = x[b,:t+1] # (t,C)\n",
    "        xbow[b,t] = torch.mean(xprev, 0)\n"
   ]
  },
  {
   "cell_type": "code",
   "execution_count": 73,
   "id": "7368c7d2",
   "metadata": {},
   "outputs": [
    {
     "data": {
      "text/plain": [
       "True"
      ]
     },
     "execution_count": 73,
     "metadata": {},
     "output_type": "execute_result"
    }
   ],
   "source": [
    "# version 2: using matrix multiply for a weighted aggregation\n",
    "wei = torch.tril(torch.ones(T, T))\n",
    "wei = wei / wei.sum(1, keepdim=True)\n",
    "xbow2 = wei @ x # (B, T, T) @ (B, T, C) ----> (B, T, C)\n",
    "torch.allclose(xbow, xbow2, atol=1e-6)"
   ]
  },
  {
   "cell_type": "code",
   "execution_count": 67,
   "id": "bd5fcab3",
   "metadata": {},
   "outputs": [
    {
     "data": {
      "text/plain": [
       "True"
      ]
     },
     "execution_count": 67,
     "metadata": {},
     "output_type": "execute_result"
    }
   ],
   "source": [
    "# version 3: use Softmax\n",
    "tril = torch.tril(torch.ones(T, T))\n",
    "wei = torch.zeros((T,T))\n",
    "wei = wei.masked_fill(tril == 0, float('-inf'))\n",
    "wei = F.softmax(wei, dim=-1)\n",
    "xbow3 = wei @ x\n",
    "torch.allclose(xbow2, xbow3)"
   ]
  },
  {
   "cell_type": "code",
   "execution_count": 74,
   "id": "c8e27d90",
   "metadata": {},
   "outputs": [
    {
     "data": {
      "text/plain": [
       "torch.Size([4, 8, 16])"
      ]
     },
     "execution_count": 74,
     "metadata": {},
     "output_type": "execute_result"
    }
   ],
   "source": [
    "# version 4: self-attention!\n",
    "torch.manual_seed(1337)\n",
    "B,T,C = 4,8,32 # batch, time, channels\n",
    "x = torch.randn(B,T,C)\n",
    "\n",
    "# let's see a single Head perform self-attention\n",
    "head_size = 16\n",
    "key = nn.Linear(C, head_size, bias=False)\n",
    "query = nn.Linear(C, head_size, bias=False)\n",
    "value = nn.Linear(C, head_size, bias=False)\n",
    "k = key(x)   # (B, T, 16)\n",
    "q = query(x) # (B, T, 16)\n",
    "wei =  q @ k.transpose(-2, -1) # (B, T, 16) @ (B, 16, T) ---> (B, T, T)\n",
    "\n",
    "tril = torch.tril(torch.ones(T, T))\n",
    "#wei = torch.zeros((T,T))\n",
    "wei = wei.masked_fill(tril == 0, float('-inf'))\n",
    "wei = F.softmax(wei, dim=-1)\n",
    "\n",
    "v = value(x)\n",
    "out = wei @ v\n",
    "#out = wei @ x\n",
    "\n",
    "out.shape"
   ]
  },
  {
   "cell_type": "code",
   "execution_count": 75,
   "id": "c67aacd6",
   "metadata": {},
   "outputs": [
    {
     "data": {
      "text/plain": [
       "tensor([[1.0000, 0.0000, 0.0000, 0.0000, 0.0000, 0.0000, 0.0000, 0.0000],\n",
       "        [0.1574, 0.8426, 0.0000, 0.0000, 0.0000, 0.0000, 0.0000, 0.0000],\n",
       "        [0.2088, 0.1646, 0.6266, 0.0000, 0.0000, 0.0000, 0.0000, 0.0000],\n",
       "        [0.5792, 0.1187, 0.1889, 0.1131, 0.0000, 0.0000, 0.0000, 0.0000],\n",
       "        [0.0294, 0.1052, 0.0469, 0.0276, 0.7909, 0.0000, 0.0000, 0.0000],\n",
       "        [0.0176, 0.2689, 0.0215, 0.0089, 0.6812, 0.0019, 0.0000, 0.0000],\n",
       "        [0.1691, 0.4066, 0.0438, 0.0416, 0.1048, 0.2012, 0.0329, 0.0000],\n",
       "        [0.0210, 0.0843, 0.0555, 0.2297, 0.0573, 0.0709, 0.2423, 0.2391]],\n",
       "       grad_fn=<SelectBackward0>)"
      ]
     },
     "execution_count": 75,
     "metadata": {},
     "output_type": "execute_result"
    }
   ],
   "source": [
    "wei[0]"
   ]
  },
  {
   "cell_type": "code",
   "execution_count": null,
   "id": "45db573b",
   "metadata": {},
   "outputs": [],
   "source": []
  }
 ],
 "metadata": {
  "kernelspec": {
   "display_name": "py310",
   "language": "python",
   "name": "python3"
  },
  "language_info": {
   "codemirror_mode": {
    "name": "ipython",
    "version": 3
   },
   "file_extension": ".py",
   "mimetype": "text/x-python",
   "name": "python",
   "nbconvert_exporter": "python",
   "pygments_lexer": "ipython3",
   "version": "3.10.16"
  }
 },
 "nbformat": 4,
 "nbformat_minor": 5
}
