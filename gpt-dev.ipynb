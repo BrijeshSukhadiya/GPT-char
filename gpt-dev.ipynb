{
 "cells": [
  {
   "cell_type": "code",
   "execution_count": 2,
   "id": "24669311",
   "metadata": {},
   "outputs": [],
   "source": [
    "with open('text.txt', 'r', encoding=\"utf-8\") as f:\n",
    "    text = f.read()"
   ]
  },
  {
   "cell_type": "code",
   "execution_count": 3,
   "id": "133b07bd",
   "metadata": {},
   "outputs": [
    {
     "name": "stdout",
     "output_type": "stream",
     "text": [
      "lenth of dataset in characters:  11853750\n"
     ]
    }
   ],
   "source": [
    "print('lenth of dataset in characters: ', len(text))"
   ]
  },
  {
   "cell_type": "code",
   "execution_count": 4,
   "id": "0d409971",
   "metadata": {},
   "outputs": [
    {
     "name": "stdout",
     "output_type": "stream",
     "text": [
      "Albert of Prussia ( 17 May 1490 20 March 1568 ) was the last Grand Master of the Teutonic Knights , \n"
     ]
    }
   ],
   "source": [
    "#Printing first 100 characters\n",
    "print(text[:100])"
   ]
  },
  {
   "cell_type": "code",
   "execution_count": 5,
   "id": "8c72a4b3",
   "metadata": {},
   "outputs": [
    {
     "name": "stdout",
     "output_type": "stream",
     "text": [
      "\n",
      " !#$%&'()*+,-./0123456789:;<=>?@ABCDEFGHIJKLMNOPQRSTUVWXYZabcdefghijklmnopqrstuvwxyz{\n",
      "86\n"
     ]
    }
   ],
   "source": [
    "#All unique chr in text\n",
    "chars = sorted(list(set(text)))\n",
    "vocab_size = len(chars)\n",
    "print(''.join(chars))\n",
    "print(vocab_size)"
   ]
  },
  {
   "cell_type": "code",
   "execution_count": 6,
   "id": "53e18dab",
   "metadata": {},
   "outputs": [
    {
     "name": "stdout",
     "output_type": "stream",
     "text": [
      "[40, 63, 70, 70, 73]\n",
      "Hello\n"
     ]
    }
   ],
   "source": [
    "#mapping of char to int\n",
    "stoi = { ch:i for i, ch in enumerate(chars)}\n",
    "itos = { i:ch for i, ch in enumerate(chars)}\n",
    "encode = lambda s: [stoi[c] for c in s] # str to int list\n",
    "decode = lambda l: ''.join([itos[i] for i in l]) #int to str\n",
    "\n",
    "print(encode(\"Hello\"))\n",
    "print(decode(encode(\"Hello\")))"
   ]
  },
  {
   "cell_type": "code",
   "execution_count": 7,
   "id": "fb25f9c6",
   "metadata": {},
   "outputs": [
    {
     "name": "stdout",
     "output_type": "stream",
     "text": [
      "torch.Size([11853750]) <built-in method type of Tensor object at 0x000002D4AFE730B0>\n",
      "tensor([33, 70, 60, 63, 76, 78,  1, 73, 64,  1, 48, 76, 79, 77, 77, 67, 59,  1,\n",
      "         8,  1, 17, 23,  1, 45, 59, 83,  1, 17, 20, 25, 16,  1, 18, 16,  1, 45,\n",
      "        59, 76, 61, 66,  1, 17, 21, 22, 24,  1,  9,  1, 81, 59, 77,  1, 78, 66,\n",
      "        63,  1, 70, 59, 77, 78,  1, 39, 76, 59, 72, 62,  1, 45, 59, 77, 78, 63,\n",
      "        76,  1, 73, 64,  1, 78, 66, 63,  1, 52, 63, 79, 78, 73, 72, 67, 61,  1,\n",
      "        43, 72, 67, 65, 66, 78, 77,  1, 12,  1])\n"
     ]
    }
   ],
   "source": [
    "#Encoding entire text in dataset and storing in a torch.tensor\n",
    "import torch\n",
    "data = torch.tensor(encode(text), dtype=torch.long)\n",
    "print (data.shape,data.type)\n",
    "print(data[:100])"
   ]
  },
  {
   "cell_type": "code",
   "execution_count": null,
   "id": "1b954a25",
   "metadata": {},
   "outputs": [],
   "source": [
    "#split of data\n",
    "n = int(0.9*len(data))\n",
    "train_data = data[:n]\n",
    "val_data = data[n:]"
   ]
  }
 ],
 "metadata": {
  "kernelspec": {
   "display_name": "py310",
   "language": "python",
   "name": "python3"
  },
  "language_info": {
   "codemirror_mode": {
    "name": "ipython",
    "version": 3
   },
   "file_extension": ".py",
   "mimetype": "text/x-python",
   "name": "python",
   "nbconvert_exporter": "python",
   "pygments_lexer": "ipython3",
   "version": "3.10.16"
  }
 },
 "nbformat": 4,
 "nbformat_minor": 5
}
